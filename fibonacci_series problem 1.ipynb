{
 "cells": [
  {
   "cell_type": "code",
   "execution_count": 1,
   "id": "a868e7fb",
   "metadata": {},
   "outputs": [
    {
     "name": "stdout",
     "output_type": "stream",
     "text": [
      "1 1 2 3 5 8 13 21 34\n"
     ]
    }
   ],
   "source": [
    "def fibonacci_series(n):\n",
    "    series = []\n",
    "    a, b = 0, 1\n",
    "\n",
    "    while b <= n:\n",
    "        series.append(b)\n",
    "        a, b = b, a + b\n",
    "\n",
    "    return series\n",
    "\n",
    "\n",
    "fib_series = fibonacci_series(50)\n",
    "print(*fib_series)\n"
   ]
  },
  {
   "cell_type": "code",
   "execution_count": null,
   "id": "62399792",
   "metadata": {},
   "outputs": [],
   "source": []
  }
 ],
 "metadata": {
  "kernelspec": {
   "display_name": "Python 3 (ipykernel)",
   "language": "python",
   "name": "python3"
  },
  "language_info": {
   "codemirror_mode": {
    "name": "ipython",
    "version": 3
   },
   "file_extension": ".py",
   "mimetype": "text/x-python",
   "name": "python",
   "nbconvert_exporter": "python",
   "pygments_lexer": "ipython3",
   "version": "3.10.9"
  }
 },
 "nbformat": 4,
 "nbformat_minor": 5
}
